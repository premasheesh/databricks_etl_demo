{
 "cells": [
  {
   "cell_type": "markdown",
   "metadata": {
    "application/vnd.databricks.v1+cell": {
     "cellMetadata": {},
     "inputWidgets": {},
     "nuid": "e4731f85-eefc-40c1-8482-f87ded2af043",
     "showTitle": false,
     "tableResultSettingsMap": {},
     "title": ""
    }
   },
   "source": [
    "# Silver Layer – Data Cleaning and Validation\n",
    "\n",
    "This notebook performs the transformation of raw ingested data from the Bronze layer into a cleaned and validated form in the Silver layer.  \n",
    "The following cleaning operations are performed:\n",
    "\n",
    "- Removal of cancelled transactions (i.e., Invoice numbers starting with 'C')\n",
    "- Elimination of records with missing or null customer identifiers\n",
    "- Computation of a new field: `SalesAmount` as `Quantity × UnitPrice`\n",
    "- Deduplication of transactions where applicable\n",
    "\n",
    "The cleaned data is written to a Delta table named `silver_sales`, which serves as the refined dataset for analytical aggregation in the Gold layer.\n"
   ]
  },
  {
   "cell_type": "markdown",
   "metadata": {
    "application/vnd.databricks.v1+cell": {
     "cellMetadata": {},
     "inputWidgets": {},
     "nuid": "3b7d5e78-27f3-4650-87a8-0c58a9bf49da",
     "showTitle": false,
     "tableResultSettingsMap": {},
     "title": ""
    }
   },
   "source": [
    "## Step 1: Load Raw Data from Bronze Table\n",
    "\n",
    "The raw dataset is read from the previously created Delta table `bronze_sales`, which resides in the Bronze layer.  \n",
    "This table contains the unprocessed input along with an ingestion timestamp and standardized column names.  \n",
    "The data will be further filtered and transformed as part of the Silver layer processing.\n"
   ]
  },
  {
   "cell_type": "code",
   "execution_count": 0,
   "metadata": {
    "application/vnd.databricks.v1+cell": {
     "cellMetadata": {
      "byteLimit": 2048000,
      "rowLimit": 10000
     },
     "inputWidgets": {},
     "nuid": "29d1f4dc-4c41-4ef3-b750-cd11cfbee6d0",
     "showTitle": false,
     "tableResultSettingsMap": {
      "0": {
       "dataGridStateBlob": "{\"version\":1,\"tableState\":{\"columnPinning\":{\"left\":[\"#row_number#\"],\"right\":[]},\"columnSizing\":{},\"columnVisibility\":{}},\"settings\":{\"columns\":{}},\"syncTimestamp\":1752536260817}",
       "filterBlob": null,
       "queryPlanFiltersBlob": null,
       "tableResultIndex": 0
      }
     },
     "title": ""
    }
   },
   "outputs": [],
   "source": [
    "# Load the raw data from the Bronze Delta table\n",
    "df_bronze = spark.read.format(\"delta\").table(\"bronze_sales\")\n",
    "\n",
    "# Preview the loaded DataFrame\n",
    "df_bronze.display()\n"
   ]
  },
  {
   "cell_type": "markdown",
   "metadata": {
    "application/vnd.databricks.v1+cell": {
     "cellMetadata": {},
     "inputWidgets": {},
     "nuid": "0fdbf476-55f8-4f16-97f5-4bcd3d881c21",
     "showTitle": false,
     "tableResultSettingsMap": {},
     "title": ""
    }
   },
   "source": [
    "## Step 2: Filter Out Invalid and Cancelled Records\n",
    "\n",
    "To ensure data quality, records that represent cancellations or lack essential information are excluded.  \n",
    "Specifically, transactions with an `InvoiceNo` starting with the letter 'C' (indicating cancellations) are removed.  \n",
    "Additionally, records with null values in the `Customer_ID` field are filtered out, as these entries are considered incomplete.\n"
   ]
  },
  {
   "cell_type": "code",
   "execution_count": 0,
   "metadata": {
    "application/vnd.databricks.v1+cell": {
     "cellMetadata": {
      "byteLimit": 2048000,
      "rowLimit": 10000
     },
     "inputWidgets": {},
     "nuid": "bf75ca96-a49c-494b-ba45-452117eaf09f",
     "showTitle": false,
     "tableResultSettingsMap": {},
     "title": ""
    }
   },
   "outputs": [],
   "source": [
    "from pyspark.sql.functions import col\n",
    "\n",
    "# Filter out cancelled invoices (start with 'C') and null customer IDs\n",
    "df_silver = df_bronze.filter(\n",
    "    (~col(\"Invoice\").startswith(\"C\")) &\n",
    "    (col(\"Customer_ID\").isNotNull())\n",
    ")\n",
    "\n",
    "df_silver.display()\n"
   ]
  },
  {
   "cell_type": "markdown",
   "metadata": {
    "application/vnd.databricks.v1+cell": {
     "cellMetadata": {},
     "inputWidgets": {},
     "nuid": "b82d002d-4ffd-4fa8-a6cf-ff47e7e06293",
     "showTitle": false,
     "tableResultSettingsMap": {},
     "title": ""
    }
   },
   "source": [
    "##  Step 3: Compute SalesAmount Field\n",
    "\n",
    "To enhance the dataset for downstream analytical use, a new column named `SalesAmount` is calculated.  \n",
    "It is derived by multiplying the quantity of each item sold with its unit price.  \n",
    "This computed field will be used for revenue-based aggregations in the Gold layer.\n",
    "\n",
    "### Restore Numeric Types for Calculation\n",
    "\n",
    "Since all columns were initially cast to strings for ingestion into the Bronze layer,  \n",
    "the `Quantity` and `Price` fields are explicitly converted back to their appropriate numeric types.  \n",
    "Regular expressions are applied to ensure that only rows containing valid numeric values are retained.  \n",
    "This step enables accurate arithmetic operations required for computing `SalesAmount`.\n"
   ]
  },
  {
   "cell_type": "code",
   "execution_count": 0,
   "metadata": {
    "application/vnd.databricks.v1+cell": {
     "cellMetadata": {
      "byteLimit": 2048000,
      "rowLimit": 10000
     },
     "inputWidgets": {},
     "nuid": "c831c54b-8656-4f83-87a9-e012edd991f1",
     "showTitle": false,
     "tableResultSettingsMap": {},
     "title": ""
    }
   },
   "outputs": [],
   "source": [
    "from pyspark.sql.functions import col\n",
    "\n",
    "# Step 3a: Filter valid numeric rows only (supporting negative quantities)\n",
    "df_cleaned = df_bronze.filter(\n",
    "    col(\"Quantity\").rlike(\"^-?[0-9]+$\") &     # e.g., -20, 100\n",
    "    col(\"Price\").rlike(\"^[0-9]+(\\\\.[0-9]+)?$\") # e.g., 2.99, 10.0\n",
    ")\n",
    "\n",
    "# Step 3b: Cast string columns to proper numeric types\n",
    "df_cleaned = df_cleaned.withColumn(\"Quantity\", col(\"Quantity\").cast(\"int\"))\n",
    "df_cleaned = df_cleaned.withColumn(\"Price\", col(\"Price\").cast(\"double\"))\n",
    "\n",
    "# Step 3c: Compute SalesAmount\n",
    "df_silver = df_cleaned.withColumn(\"SalesAmount\", col(\"Quantity\") * col(\"Price\"))\n",
    "\n",
    "# Step 3d: Preview results\n",
    "df_silver.display()\n"
   ]
  },
  {
   "cell_type": "markdown",
   "metadata": {
    "application/vnd.databricks.v1+cell": {
     "cellMetadata": {},
     "inputWidgets": {},
     "nuid": "b72602c8-5650-4733-9872-36ef5c81776a",
     "showTitle": false,
     "tableResultSettingsMap": {},
     "title": ""
    }
   },
   "source": [
    "## Step 4: Deduplicate Transactions (If Applicable)\n",
    "\n",
    "To ensure data integrity, duplicate transaction records—if any—are removed based on relevant fields.  \n",
    "The deduplication logic uses a combination of identifying columns such as `Invoice`, `StockCode`, `Customer_ID`, and `InvoiceDate` to retain unique entries.  \n",
    "This prevents double-counting during aggregation in the Gold layer.\n"
   ]
  },
  {
   "cell_type": "code",
   "execution_count": 0,
   "metadata": {
    "application/vnd.databricks.v1+cell": {
     "cellMetadata": {
      "byteLimit": 2048000,
      "rowLimit": 10000
     },
     "inputWidgets": {},
     "nuid": "8113ee3f-7747-486b-98ae-46737729ac76",
     "showTitle": false,
     "tableResultSettingsMap": {},
     "title": ""
    }
   },
   "outputs": [],
   "source": [
    "# Deduplicate based on common transaction identifiers\n",
    "df_silver = df_silver.dropDuplicates([\"Invoice\", \"StockCode\", \"Customer_ID\", \"InvoiceDate\"])\n"
   ]
  },
  {
   "cell_type": "markdown",
   "metadata": {
    "application/vnd.databricks.v1+cell": {
     "cellMetadata": {},
     "inputWidgets": {},
     "nuid": "6b960657-45d4-40fb-99d4-66021d157f0f",
     "showTitle": false,
     "tableResultSettingsMap": {},
     "title": ""
    }
   },
   "source": [
    "## Step 5: Save Cleaned Data to Silver Delta Table\n",
    "\n",
    "The validated and enriched dataset is now saved as a Delta Table named `silver_sales`.  \n",
    "This table represents the refined version of the raw input and serves as the source for business-level aggregations in the Gold layer.  \n",
    "By using Delta format, version control and efficient data access are preserved.\n"
   ]
  },
  {
   "cell_type": "code",
   "execution_count": 0,
   "metadata": {
    "application/vnd.databricks.v1+cell": {
     "cellMetadata": {
      "byteLimit": 2048000,
      "rowLimit": 10000
     },
     "inputWidgets": {},
     "nuid": "190b44eb-887a-4204-a8ce-7ea4ba738e1a",
     "showTitle": false,
     "tableResultSettingsMap": {},
     "title": ""
    }
   },
   "outputs": [],
   "source": [
    "# Save cleaned and enriched data to Silver Delta table\n",
    "df_silver.write.format(\"delta\").mode(\"overwrite\").saveAsTable(\"silver_sales\")\n"
   ]
  },
  {
   "cell_type": "code",
   "execution_count": 0,
   "metadata": {
    "application/vnd.databricks.v1+cell": {
     "cellMetadata": {},
     "inputWidgets": {},
     "nuid": "3441442c-99a9-4f00-8049-be2f498bad0e",
     "showTitle": false,
     "tableResultSettingsMap": {},
     "title": ""
    }
   },
   "outputs": [],
   "source": []
  },
  {
   "cell_type": "code",
   "execution_count": 0,
   "metadata": {
    "application/vnd.databricks.v1+cell": {
     "cellMetadata": {
      "byteLimit": 2048000,
      "rowLimit": 10000
     },
     "inputWidgets": {},
     "nuid": "8512fd7b-9f50-4d76-909a-090b457af325",
     "showTitle": false,
     "tableResultSettingsMap": {},
     "title": ""
    }
   },
   "outputs": [],
   "source": [
    "# df_bronze.select(\"Quantity\").distinct().show(100, truncate=False)\n"
   ]
  }
 ],
 "metadata": {
  "application/vnd.databricks.v1+notebook": {
   "computePreferences": null,
   "dashboards": [],
   "environmentMetadata": {
    "base_environment": "",
    "environment_version": "2"
   },
   "inputWidgetPreferences": null,
   "language": "python",
   "notebookMetadata": {
    "pythonIndentUnit": 4
   },
   "notebookName": "02_silver_cleaning",
   "widgets": {}
  },
  "language_info": {
   "name": "python"
  }
 },
 "nbformat": 4,
 "nbformat_minor": 0
}
